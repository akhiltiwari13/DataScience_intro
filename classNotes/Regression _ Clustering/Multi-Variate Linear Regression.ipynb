{
 "cells": [
  {
   "cell_type": "code",
   "execution_count": 1,
   "metadata": {},
   "outputs": [
    {
     "data": {
      "text/html": [
       "<div>\n",
       "<style scoped>\n",
       "    .dataframe tbody tr th:only-of-type {\n",
       "        vertical-align: middle;\n",
       "    }\n",
       "\n",
       "    .dataframe tbody tr th {\n",
       "        vertical-align: top;\n",
       "    }\n",
       "\n",
       "    .dataframe thead th {\n",
       "        text-align: right;\n",
       "    }\n",
       "</style>\n",
       "<table border=\"1\" class=\"dataframe\">\n",
       "  <thead>\n",
       "    <tr style=\"text-align: right;\">\n",
       "      <th></th>\n",
       "      <th>Date</th>\n",
       "      <th>Open</th>\n",
       "      <th>High</th>\n",
       "      <th>Low</th>\n",
       "      <th>Close</th>\n",
       "      <th>Adj Close</th>\n",
       "      <th>Volume</th>\n",
       "    </tr>\n",
       "  </thead>\n",
       "  <tbody>\n",
       "    <tr>\n",
       "      <th>0</th>\n",
       "      <td>2018-01-16</td>\n",
       "      <td>334.000000</td>\n",
       "      <td>338.500000</td>\n",
       "      <td>328.000000</td>\n",
       "      <td>333.899994</td>\n",
       "      <td>319.873657</td>\n",
       "      <td>470267.0</td>\n",
       "    </tr>\n",
       "    <tr>\n",
       "      <th>1</th>\n",
       "      <td>2018-01-17</td>\n",
       "      <td>336.000000</td>\n",
       "      <td>343.750000</td>\n",
       "      <td>331.250000</td>\n",
       "      <td>342.500000</td>\n",
       "      <td>328.112457</td>\n",
       "      <td>653618.0</td>\n",
       "    </tr>\n",
       "    <tr>\n",
       "      <th>2</th>\n",
       "      <td>2018-01-18</td>\n",
       "      <td>350.000000</td>\n",
       "      <td>356.500000</td>\n",
       "      <td>333.100006</td>\n",
       "      <td>340.250000</td>\n",
       "      <td>325.956970</td>\n",
       "      <td>2419109.0</td>\n",
       "    </tr>\n",
       "    <tr>\n",
       "      <th>3</th>\n",
       "      <td>2018-01-19</td>\n",
       "      <td>348.000000</td>\n",
       "      <td>352.000000</td>\n",
       "      <td>339.250000</td>\n",
       "      <td>348.299988</td>\n",
       "      <td>333.668793</td>\n",
       "      <td>1659646.0</td>\n",
       "    </tr>\n",
       "    <tr>\n",
       "      <th>4</th>\n",
       "      <td>2018-01-22</td>\n",
       "      <td>349.000000</td>\n",
       "      <td>358.000000</td>\n",
       "      <td>349.000000</td>\n",
       "      <td>355.250000</td>\n",
       "      <td>340.326874</td>\n",
       "      <td>663569.0</td>\n",
       "    </tr>\n",
       "    <tr>\n",
       "      <th>...</th>\n",
       "      <td>...</td>\n",
       "      <td>...</td>\n",
       "      <td>...</td>\n",
       "      <td>...</td>\n",
       "      <td>...</td>\n",
       "      <td>...</td>\n",
       "      <td>...</td>\n",
       "    </tr>\n",
       "    <tr>\n",
       "      <th>484</th>\n",
       "      <td>2020-01-09</td>\n",
       "      <td>47.150002</td>\n",
       "      <td>48.450001</td>\n",
       "      <td>46.299999</td>\n",
       "      <td>47.299999</td>\n",
       "      <td>47.299999</td>\n",
       "      <td>6835915.0</td>\n",
       "    </tr>\n",
       "    <tr>\n",
       "      <th>485</th>\n",
       "      <td>2020-01-10</td>\n",
       "      <td>47.599998</td>\n",
       "      <td>48.349998</td>\n",
       "      <td>43.900002</td>\n",
       "      <td>44.799999</td>\n",
       "      <td>44.799999</td>\n",
       "      <td>15918973.0</td>\n",
       "    </tr>\n",
       "    <tr>\n",
       "      <th>486</th>\n",
       "      <td>2020-01-13</td>\n",
       "      <td>43.400002</td>\n",
       "      <td>44.000000</td>\n",
       "      <td>41.200001</td>\n",
       "      <td>42.099998</td>\n",
       "      <td>42.099998</td>\n",
       "      <td>10763969.0</td>\n",
       "    </tr>\n",
       "    <tr>\n",
       "      <th>487</th>\n",
       "      <td>2020-01-14</td>\n",
       "      <td>41.750000</td>\n",
       "      <td>41.750000</td>\n",
       "      <td>36.549999</td>\n",
       "      <td>38.549999</td>\n",
       "      <td>38.549999</td>\n",
       "      <td>18250917.0</td>\n",
       "    </tr>\n",
       "    <tr>\n",
       "      <th>488</th>\n",
       "      <td>2020-01-15</td>\n",
       "      <td>38.549999</td>\n",
       "      <td>41.099998</td>\n",
       "      <td>36.650002</td>\n",
       "      <td>39.799999</td>\n",
       "      <td>39.799999</td>\n",
       "      <td>19876620.0</td>\n",
       "    </tr>\n",
       "  </tbody>\n",
       "</table>\n",
       "<p>489 rows × 7 columns</p>\n",
       "</div>"
      ],
      "text/plain": [
       "           Date        Open        High         Low       Close   Adj Close  \\\n",
       "0    2018-01-16  334.000000  338.500000  328.000000  333.899994  319.873657   \n",
       "1    2018-01-17  336.000000  343.750000  331.250000  342.500000  328.112457   \n",
       "2    2018-01-18  350.000000  356.500000  333.100006  340.250000  325.956970   \n",
       "3    2018-01-19  348.000000  352.000000  339.250000  348.299988  333.668793   \n",
       "4    2018-01-22  349.000000  358.000000  349.000000  355.250000  340.326874   \n",
       "..          ...         ...         ...         ...         ...         ...   \n",
       "484  2020-01-09   47.150002   48.450001   46.299999   47.299999   47.299999   \n",
       "485  2020-01-10   47.599998   48.349998   43.900002   44.799999   44.799999   \n",
       "486  2020-01-13   43.400002   44.000000   41.200001   42.099998   42.099998   \n",
       "487  2020-01-14   41.750000   41.750000   36.549999   38.549999   38.549999   \n",
       "488  2020-01-15   38.549999   41.099998   36.650002   39.799999   39.799999   \n",
       "\n",
       "         Volume  \n",
       "0      470267.0  \n",
       "1      653618.0  \n",
       "2     2419109.0  \n",
       "3     1659646.0  \n",
       "4      663569.0  \n",
       "..          ...  \n",
       "484   6835915.0  \n",
       "485  15918973.0  \n",
       "486  10763969.0  \n",
       "487  18250917.0  \n",
       "488  19876620.0  \n",
       "\n",
       "[489 rows x 7 columns]"
      ]
     },
     "execution_count": 1,
     "metadata": {},
     "output_type": "execute_result"
    }
   ],
   "source": [
    "\"\"\"\n",
    "Load the data\n",
    "\"\"\"\n",
    "\n",
    "\n",
    "import pandas as pd\n",
    "\n",
    "ydf=pd.read_csv('/home/harshit/Downloads/YESBANK.csv')\n",
    "ydf"
   ]
  },
  {
   "cell_type": "code",
   "execution_count": 2,
   "metadata": {},
   "outputs": [],
   "source": [
    "\n",
    "#import LinearRegression Class\n",
    "from sklearn.linear_model import LinearRegression"
   ]
  },
  {
   "cell_type": "code",
   "execution_count": 3,
   "metadata": {},
   "outputs": [],
   "source": [
    "#Algorithm---------------->step by step solution to a problem\n",
    "#training\n",
    "\n",
    "#model-------------->system of prediction which will give you your final output/answer\n",
    "\n",
    "#feature!!!"
   ]
  },
  {
   "cell_type": "code",
   "execution_count": 4,
   "metadata": {},
   "outputs": [],
   "source": [
    "#step 1-------------> select your target Attribute"
   ]
  },
  {
   "cell_type": "code",
   "execution_count": 5,
   "metadata": {},
   "outputs": [],
   "source": [
    "import seaborn as sns"
   ]
  },
  {
   "cell_type": "code",
   "execution_count": 6,
   "metadata": {},
   "outputs": [
    {
     "data": {
      "text/plain": [
       "<matplotlib.axes._subplots.AxesSubplot at 0x7f819efc3430>"
      ]
     },
     "execution_count": 6,
     "metadata": {},
     "output_type": "execute_result"
    },
    {
     "data": {
      "image/png": "[encoded data removed]",
      "text/plain": [
       "<Figure size 432x288 with 1 Axes>"
      ]
     },
     "metadata": {
      "needs_background": "light"
     },
     "output_type": "display_data"
    }
   ],
   "source": [
    "sns.scatterplot(x='Open',y='Close',data=ydf)"
   ]
  },
  {
   "cell_type": "code",
   "execution_count": 7,
   "metadata": {},
   "outputs": [
    {
     "data": {
      "text/plain": [
       "<matplotlib.axes._subplots.AxesSubplot at 0x7f819c8b19a0>"
      ]
     },
     "execution_count": 7,
     "metadata": {},
     "output_type": "execute_result"
    },
    {
     "data": {
      "image/png": "[encoded data removed]",
      "text/plain": [
       "<Figure size 432x288 with 1 Axes>"
      ]
     },
     "metadata": {
      "needs_background": "light"
     },
     "output_type": "display_data"
    }
   ],
   "source": [
    "sns.scatterplot(x='Low',y='Close',data=ydf)"
   ]
  },
  {
   "cell_type": "code",
   "execution_count": 8,
   "metadata": {},
   "outputs": [],
   "source": [
    "# Univariate Linear Regression"
   ]
  },
  {
   "cell_type": "code",
   "execution_count": 9,
   "metadata": {},
   "outputs": [
    {
     "data": {
      "text/plain": [
       "<matplotlib.axes._subplots.AxesSubplot at 0x7f819c8c2160>"
      ]
     },
     "execution_count": 9,
     "metadata": {},
     "output_type": "execute_result"
    },
    {
     "data": {
      "image/png": "[encoded data removed]",
      "text/plain": [
       "<Figure size 432x288 with 1 Axes>"
      ]
     },
     "metadata": {
      "needs_background": "light"
     },
     "output_type": "display_data"
    }
   ],
   "source": [
    "sns.scatterplot(x='Volume',y='Close',data=ydf)"
   ]
  },
  {
   "cell_type": "code",
   "execution_count": 10,
   "metadata": {},
   "outputs": [
    {
     "data": {
      "text/plain": [
       "Date         0\n",
       "Open         1\n",
       "High         1\n",
       "Low          1\n",
       "Close        1\n",
       "Adj Close    1\n",
       "Volume       1\n",
       "dtype: int64"
      ]
     },
     "execution_count": 10,
     "metadata": {},
     "output_type": "execute_result"
    }
   ],
   "source": [
    "ydf.isna().sum() #check for missing values"
   ]
  },
  {
   "cell_type": "code",
   "execution_count": 11,
   "metadata": {},
   "outputs": [],
   "source": [
    "ydf.dropna(axis=0,how='any',inplace=True) #drop missing values"
   ]
  },
  {
   "cell_type": "code",
   "execution_count": 12,
   "metadata": {},
   "outputs": [
    {
     "data": {
      "text/plain": [
       "Date         0\n",
       "Open         0\n",
       "High         0\n",
       "Low          0\n",
       "Close        0\n",
       "Adj Close    0\n",
       "Volume       0\n",
       "dtype: int64"
      ]
     },
     "execution_count": 12,
     "metadata": {},
     "output_type": "execute_result"
    }
   ],
   "source": [
    "ydf.isna().sum()"
   ]
  },
  {
   "cell_type": "code",
   "execution_count": 13,
   "metadata": {},
   "outputs": [
    {
     "data": {
      "text/html": [
       "<div>\n",
       "<style scoped>\n",
       "    .dataframe tbody tr th:only-of-type {\n",
       "        vertical-align: middle;\n",
       "    }\n",
       "\n",
       "    .dataframe tbody tr th {\n",
       "        vertical-align: top;\n",
       "    }\n",
       "\n",
       "    .dataframe thead th {\n",
       "        text-align: right;\n",
       "    }\n",
       "</style>\n",
       "<table border=\"1\" class=\"dataframe\">\n",
       "  <thead>\n",
       "    <tr style=\"text-align: right;\">\n",
       "      <th></th>\n",
       "      <th>Date</th>\n",
       "      <th>Open</th>\n",
       "      <th>High</th>\n",
       "      <th>Low</th>\n",
       "      <th>Adj Close</th>\n",
       "      <th>Volume</th>\n",
       "    </tr>\n",
       "  </thead>\n",
       "  <tbody>\n",
       "    <tr>\n",
       "      <th>0</th>\n",
       "      <td>2018-01-16</td>\n",
       "      <td>334.000000</td>\n",
       "      <td>338.500000</td>\n",
       "      <td>328.000000</td>\n",
       "      <td>319.873657</td>\n",
       "      <td>470267.0</td>\n",
       "    </tr>\n",
       "    <tr>\n",
       "      <th>1</th>\n",
       "      <td>2018-01-17</td>\n",
       "      <td>336.000000</td>\n",
       "      <td>343.750000</td>\n",
       "      <td>331.250000</td>\n",
       "      <td>328.112457</td>\n",
       "      <td>653618.0</td>\n",
       "    </tr>\n",
       "    <tr>\n",
       "      <th>2</th>\n",
       "      <td>2018-01-18</td>\n",
       "      <td>350.000000</td>\n",
       "      <td>356.500000</td>\n",
       "      <td>333.100006</td>\n",
       "      <td>325.956970</td>\n",
       "      <td>2419109.0</td>\n",
       "    </tr>\n",
       "    <tr>\n",
       "      <th>3</th>\n",
       "      <td>2018-01-19</td>\n",
       "      <td>348.000000</td>\n",
       "      <td>352.000000</td>\n",
       "      <td>339.250000</td>\n",
       "      <td>333.668793</td>\n",
       "      <td>1659646.0</td>\n",
       "    </tr>\n",
       "    <tr>\n",
       "      <th>4</th>\n",
       "      <td>2018-01-22</td>\n",
       "      <td>349.000000</td>\n",
       "      <td>358.000000</td>\n",
       "      <td>349.000000</td>\n",
       "      <td>340.326874</td>\n",
       "      <td>663569.0</td>\n",
       "    </tr>\n",
       "    <tr>\n",
       "      <th>...</th>\n",
       "      <td>...</td>\n",
       "      <td>...</td>\n",
       "      <td>...</td>\n",
       "      <td>...</td>\n",
       "      <td>...</td>\n",
       "      <td>...</td>\n",
       "    </tr>\n",
       "    <tr>\n",
       "      <th>484</th>\n",
       "      <td>2020-01-09</td>\n",
       "      <td>47.150002</td>\n",
       "      <td>48.450001</td>\n",
       "      <td>46.299999</td>\n",
       "      <td>47.299999</td>\n",
       "      <td>6835915.0</td>\n",
       "    </tr>\n",
       "    <tr>\n",
       "      <th>485</th>\n",
       "      <td>2020-01-10</td>\n",
       "      <td>47.599998</td>\n",
       "      <td>48.349998</td>\n",
       "      <td>43.900002</td>\n",
       "      <td>44.799999</td>\n",
       "      <td>15918973.0</td>\n",
       "    </tr>\n",
       "    <tr>\n",
       "      <th>486</th>\n",
       "      <td>2020-01-13</td>\n",
       "      <td>43.400002</td>\n",
       "      <td>44.000000</td>\n",
       "      <td>41.200001</td>\n",
       "      <td>42.099998</td>\n",
       "      <td>10763969.0</td>\n",
       "    </tr>\n",
       "    <tr>\n",
       "      <th>487</th>\n",
       "      <td>2020-01-14</td>\n",
       "      <td>41.750000</td>\n",
       "      <td>41.750000</td>\n",
       "      <td>36.549999</td>\n",
       "      <td>38.549999</td>\n",
       "      <td>18250917.0</td>\n",
       "    </tr>\n",
       "    <tr>\n",
       "      <th>488</th>\n",
       "      <td>2020-01-15</td>\n",
       "      <td>38.549999</td>\n",
       "      <td>41.099998</td>\n",
       "      <td>36.650002</td>\n",
       "      <td>39.799999</td>\n",
       "      <td>19876620.0</td>\n",
       "    </tr>\n",
       "  </tbody>\n",
       "</table>\n",
       "<p>488 rows × 6 columns</p>\n",
       "</div>"
      ],
      "text/plain": [
       "           Date        Open        High         Low   Adj Close      Volume\n",
       "0    2018-01-16  334.000000  338.500000  328.000000  319.873657    470267.0\n",
       "1    2018-01-17  336.000000  343.750000  331.250000  328.112457    653618.0\n",
       "2    2018-01-18  350.000000  356.500000  333.100006  325.956970   2419109.0\n",
       "3    2018-01-19  348.000000  352.000000  339.250000  333.668793   1659646.0\n",
       "4    2018-01-22  349.000000  358.000000  349.000000  340.326874    663569.0\n",
       "..          ...         ...         ...         ...         ...         ...\n",
       "484  2020-01-09   47.150002   48.450001   46.299999   47.299999   6835915.0\n",
       "485  2020-01-10   47.599998   48.349998   43.900002   44.799999  15918973.0\n",
       "486  2020-01-13   43.400002   44.000000   41.200001   42.099998  10763969.0\n",
       "487  2020-01-14   41.750000   41.750000   36.549999   38.549999  18250917.0\n",
       "488  2020-01-15   38.549999   41.099998   36.650002   39.799999  19876620.0\n",
       "\n",
       "[488 rows x 6 columns]"
      ]
     },
     "execution_count": 13,
     "metadata": {},
     "output_type": "execute_result"
    }
   ],
   "source": [
    "#separate the column which is target\n",
    "target=ydf.pop('Close')\n",
    "ydf"
   ]
  },
  {
   "cell_type": "code",
   "execution_count": 14,
   "metadata": {},
   "outputs": [
    {
     "data": {
      "text/plain": [
       "0      333.899994\n",
       "1      342.500000\n",
       "2      340.250000\n",
       "3      348.299988\n",
       "4      355.250000\n",
       "          ...    \n",
       "484     47.299999\n",
       "485     44.799999\n",
       "486     42.099998\n",
       "487     38.549999\n",
       "488     39.799999\n",
       "Name: Close, Length: 488, dtype: float64"
      ]
     },
     "execution_count": 14,
     "metadata": {},
     "output_type": "execute_result"
    }
   ],
   "source": [
    "target"
   ]
  },
  {
   "cell_type": "code",
   "execution_count": 15,
   "metadata": {},
   "outputs": [
    {
     "data": {
      "text/html": [
       "<div>\n",
       "<style scoped>\n",
       "    .dataframe tbody tr th:only-of-type {\n",
       "        vertical-align: middle;\n",
       "    }\n",
       "\n",
       "    .dataframe tbody tr th {\n",
       "        vertical-align: top;\n",
       "    }\n",
       "\n",
       "    .dataframe thead th {\n",
       "        text-align: right;\n",
       "    }\n",
       "</style>\n",
       "<table border=\"1\" class=\"dataframe\">\n",
       "  <thead>\n",
       "    <tr style=\"text-align: right;\">\n",
       "      <th></th>\n",
       "      <th>Open</th>\n",
       "      <th>High</th>\n",
       "      <th>Low</th>\n",
       "    </tr>\n",
       "  </thead>\n",
       "  <tbody>\n",
       "    <tr>\n",
       "      <th>0</th>\n",
       "      <td>334.000000</td>\n",
       "      <td>338.500000</td>\n",
       "      <td>328.000000</td>\n",
       "    </tr>\n",
       "    <tr>\n",
       "      <th>1</th>\n",
       "      <td>336.000000</td>\n",
       "      <td>343.750000</td>\n",
       "      <td>331.250000</td>\n",
       "    </tr>\n",
       "    <tr>\n",
       "      <th>2</th>\n",
       "      <td>350.000000</td>\n",
       "      <td>356.500000</td>\n",
       "      <td>333.100006</td>\n",
       "    </tr>\n",
       "    <tr>\n",
       "      <th>3</th>\n",
       "      <td>348.000000</td>\n",
       "      <td>352.000000</td>\n",
       "      <td>339.250000</td>\n",
       "    </tr>\n",
       "    <tr>\n",
       "      <th>4</th>\n",
       "      <td>349.000000</td>\n",
       "      <td>358.000000</td>\n",
       "      <td>349.000000</td>\n",
       "    </tr>\n",
       "    <tr>\n",
       "      <th>...</th>\n",
       "      <td>...</td>\n",
       "      <td>...</td>\n",
       "      <td>...</td>\n",
       "    </tr>\n",
       "    <tr>\n",
       "      <th>484</th>\n",
       "      <td>47.150002</td>\n",
       "      <td>48.450001</td>\n",
       "      <td>46.299999</td>\n",
       "    </tr>\n",
       "    <tr>\n",
       "      <th>485</th>\n",
       "      <td>47.599998</td>\n",
       "      <td>48.349998</td>\n",
       "      <td>43.900002</td>\n",
       "    </tr>\n",
       "    <tr>\n",
       "      <th>486</th>\n",
       "      <td>43.400002</td>\n",
       "      <td>44.000000</td>\n",
       "      <td>41.200001</td>\n",
       "    </tr>\n",
       "    <tr>\n",
       "      <th>487</th>\n",
       "      <td>41.750000</td>\n",
       "      <td>41.750000</td>\n",
       "      <td>36.549999</td>\n",
       "    </tr>\n",
       "    <tr>\n",
       "      <th>488</th>\n",
       "      <td>38.549999</td>\n",
       "      <td>41.099998</td>\n",
       "      <td>36.650002</td>\n",
       "    </tr>\n",
       "  </tbody>\n",
       "</table>\n",
       "<p>488 rows × 3 columns</p>\n",
       "</div>"
      ],
      "text/plain": [
       "           Open        High         Low\n",
       "0    334.000000  338.500000  328.000000\n",
       "1    336.000000  343.750000  331.250000\n",
       "2    350.000000  356.500000  333.100006\n",
       "3    348.000000  352.000000  339.250000\n",
       "4    349.000000  358.000000  349.000000\n",
       "..          ...         ...         ...\n",
       "484   47.150002   48.450001   46.299999\n",
       "485   47.599998   48.349998   43.900002\n",
       "486   43.400002   44.000000   41.200001\n",
       "487   41.750000   41.750000   36.549999\n",
       "488   38.549999   41.099998   36.650002\n",
       "\n",
       "[488 rows x 3 columns]"
      ]
     },
     "execution_count": 15,
     "metadata": {},
     "output_type": "execute_result"
    }
   ],
   "source": [
    "feature=ydf[['Open','High','Low']] #feature to be used on x-axis\n",
    "feature"
   ]
  },
  {
   "cell_type": "code",
   "execution_count": 16,
   "metadata": {},
   "outputs": [],
   "source": [
    "from sklearn.model_selection import train_test_split\n",
    "\n",
    "#split data into training and testing set\n",
    "xtrain,xtest,ytraining,ytest=train_test_split(feature ,target,test_size=0.2)"
   ]
  },
  {
   "cell_type": "code",
   "execution_count": 17,
   "metadata": {},
   "outputs": [
    {
     "data": {
      "text/html": [
       "<div>\n",
       "<style scoped>\n",
       "    .dataframe tbody tr th:only-of-type {\n",
       "        vertical-align: middle;\n",
       "    }\n",
       "\n",
       "    .dataframe tbody tr th {\n",
       "        vertical-align: top;\n",
       "    }\n",
       "\n",
       "    .dataframe thead th {\n",
       "        text-align: right;\n",
       "    }\n",
       "</style>\n",
       "<table border=\"1\" class=\"dataframe\">\n",
       "  <thead>\n",
       "    <tr style=\"text-align: right;\">\n",
       "      <th></th>\n",
       "      <th>Open</th>\n",
       "      <th>High</th>\n",
       "      <th>Low</th>\n",
       "    </tr>\n",
       "  </thead>\n",
       "  <tbody>\n",
       "    <tr>\n",
       "      <th>259</th>\n",
       "      <td>185.600006</td>\n",
       "      <td>185.600006</td>\n",
       "      <td>175.449997</td>\n",
       "    </tr>\n",
       "    <tr>\n",
       "      <th>27</th>\n",
       "      <td>328.000000</td>\n",
       "      <td>328.000000</td>\n",
       "      <td>319.600006</td>\n",
       "    </tr>\n",
       "    <tr>\n",
       "      <th>427</th>\n",
       "      <td>41.900002</td>\n",
       "      <td>48.200001</td>\n",
       "      <td>40.650002</td>\n",
       "    </tr>\n",
       "    <tr>\n",
       "      <th>94</th>\n",
       "      <td>343.000000</td>\n",
       "      <td>343.000000</td>\n",
       "      <td>334.100006</td>\n",
       "    </tr>\n",
       "    <tr>\n",
       "      <th>54</th>\n",
       "      <td>315.149994</td>\n",
       "      <td>319.899994</td>\n",
       "      <td>314.500000</td>\n",
       "    </tr>\n",
       "    <tr>\n",
       "      <th>...</th>\n",
       "      <td>...</td>\n",
       "      <td>...</td>\n",
       "      <td>...</td>\n",
       "    </tr>\n",
       "    <tr>\n",
       "      <th>280</th>\n",
       "      <td>236.000000</td>\n",
       "      <td>236.000000</td>\n",
       "      <td>228.800003</td>\n",
       "    </tr>\n",
       "    <tr>\n",
       "      <th>385</th>\n",
       "      <td>84.000000</td>\n",
       "      <td>84.349998</td>\n",
       "      <td>72.849998</td>\n",
       "    </tr>\n",
       "    <tr>\n",
       "      <th>257</th>\n",
       "      <td>202.000000</td>\n",
       "      <td>203.500000</td>\n",
       "      <td>190.350006</td>\n",
       "    </tr>\n",
       "    <tr>\n",
       "      <th>240</th>\n",
       "      <td>188.000000</td>\n",
       "      <td>193.199997</td>\n",
       "      <td>185.000000</td>\n",
       "    </tr>\n",
       "    <tr>\n",
       "      <th>443</th>\n",
       "      <td>69.900002</td>\n",
       "      <td>73.550003</td>\n",
       "      <td>69.199997</td>\n",
       "    </tr>\n",
       "  </tbody>\n",
       "</table>\n",
       "<p>390 rows × 3 columns</p>\n",
       "</div>"
      ],
      "text/plain": [
       "           Open        High         Low\n",
       "259  185.600006  185.600006  175.449997\n",
       "27   328.000000  328.000000  319.600006\n",
       "427   41.900002   48.200001   40.650002\n",
       "94   343.000000  343.000000  334.100006\n",
       "54   315.149994  319.899994  314.500000\n",
       "..          ...         ...         ...\n",
       "280  236.000000  236.000000  228.800003\n",
       "385   84.000000   84.349998   72.849998\n",
       "257  202.000000  203.500000  190.350006\n",
       "240  188.000000  193.199997  185.000000\n",
       "443   69.900002   73.550003   69.199997\n",
       "\n",
       "[390 rows x 3 columns]"
      ]
     },
     "execution_count": 17,
     "metadata": {},
     "output_type": "execute_result"
    }
   ],
   "source": [
    "xtrain"
   ]
  },
  {
   "cell_type": "code",
   "execution_count": 18,
   "metadata": {},
   "outputs": [
    {
     "data": {
      "text/plain": [
       "259    179.899994\n",
       "27     325.399994\n",
       "427     47.400002\n",
       "94     336.700012\n",
       "54     316.100006\n",
       "          ...    \n",
       "280    231.800003\n",
       "385     73.599998\n",
       "257    194.300003\n",
       "240    192.300003\n",
       "443     73.000000\n",
       "Name: Close, Length: 390, dtype: float64"
      ]
     },
     "execution_count": 18,
     "metadata": {},
     "output_type": "execute_result"
    }
   ],
   "source": [
    "ytraining"
   ]
  },
  {
   "cell_type": "code",
   "execution_count": 19,
   "metadata": {},
   "outputs": [],
   "source": [
    "#predictor model\n",
    "\n",
    "\n",
    "model=LinearRegression()"
   ]
  },
  {
   "cell_type": "code",
   "execution_count": 20,
   "metadata": {},
   "outputs": [],
   "source": [
    "# import numpy as np\n",
    "\n",
    "\n",
    "# #reshape the data in 1 column layout\n",
    "# xtrain=np.reshape(np.array(xtrain),(-1,1))\n",
    "# ytraining=np.reshape(np.array(ytraining),(-1,1))\n"
   ]
  },
  {
   "cell_type": "code",
   "execution_count": 21,
   "metadata": {},
   "outputs": [
    {
     "data": {
      "text/plain": [
       "LinearRegression()"
      ]
     },
     "execution_count": 21,
     "metadata": {},
     "output_type": "execute_result"
    }
   ],
   "source": [
    "#Training Model\n",
    "\n",
    "\n",
    "model.fit(xtrain,ytraining) #training process!!!!!"
   ]
  },
  {
   "cell_type": "code",
   "execution_count": 22,
   "metadata": {},
   "outputs": [
    {
     "data": {
      "text/html": [
       "<div>\n",
       "<style scoped>\n",
       "    .dataframe tbody tr th:only-of-type {\n",
       "        vertical-align: middle;\n",
       "    }\n",
       "\n",
       "    .dataframe tbody tr th {\n",
       "        vertical-align: top;\n",
       "    }\n",
       "\n",
       "    .dataframe thead th {\n",
       "        text-align: right;\n",
       "    }\n",
       "</style>\n",
       "<table border=\"1\" class=\"dataframe\">\n",
       "  <thead>\n",
       "    <tr style=\"text-align: right;\">\n",
       "      <th></th>\n",
       "      <th>Open</th>\n",
       "      <th>High</th>\n",
       "      <th>Low</th>\n",
       "    </tr>\n",
       "  </thead>\n",
       "  <tbody>\n",
       "    <tr>\n",
       "      <th>272</th>\n",
       "      <td>214.899994</td>\n",
       "      <td>223.500000</td>\n",
       "      <td>213.399994</td>\n",
       "    </tr>\n",
       "    <tr>\n",
       "      <th>232</th>\n",
       "      <td>183.000000</td>\n",
       "      <td>183.550003</td>\n",
       "      <td>177.300003</td>\n",
       "    </tr>\n",
       "    <tr>\n",
       "      <th>28</th>\n",
       "      <td>326.600006</td>\n",
       "      <td>333.700012</td>\n",
       "      <td>325.250000</td>\n",
       "    </tr>\n",
       "    <tr>\n",
       "      <th>218</th>\n",
       "      <td>169.449997</td>\n",
       "      <td>172.399994</td>\n",
       "      <td>167.500000</td>\n",
       "    </tr>\n",
       "    <tr>\n",
       "      <th>271</th>\n",
       "      <td>219.000000</td>\n",
       "      <td>219.100006</td>\n",
       "      <td>214.199997</td>\n",
       "    </tr>\n",
       "    <tr>\n",
       "      <th>...</th>\n",
       "      <td>...</td>\n",
       "      <td>...</td>\n",
       "      <td>...</td>\n",
       "    </tr>\n",
       "    <tr>\n",
       "      <th>23</th>\n",
       "      <td>312.700012</td>\n",
       "      <td>316.000000</td>\n",
       "      <td>307.799988</td>\n",
       "    </tr>\n",
       "    <tr>\n",
       "      <th>125</th>\n",
       "      <td>382.700012</td>\n",
       "      <td>387.750000</td>\n",
       "      <td>378.049988</td>\n",
       "    </tr>\n",
       "    <tr>\n",
       "      <th>407</th>\n",
       "      <td>67.050003</td>\n",
       "      <td>68.849998</td>\n",
       "      <td>64.699997</td>\n",
       "    </tr>\n",
       "    <tr>\n",
       "      <th>39</th>\n",
       "      <td>318.899994</td>\n",
       "      <td>320.799988</td>\n",
       "      <td>311.200012</td>\n",
       "    </tr>\n",
       "    <tr>\n",
       "      <th>228</th>\n",
       "      <td>179.000000</td>\n",
       "      <td>187.550003</td>\n",
       "      <td>178.000000</td>\n",
       "    </tr>\n",
       "  </tbody>\n",
       "</table>\n",
       "<p>98 rows × 3 columns</p>\n",
       "</div>"
      ],
      "text/plain": [
       "           Open        High         Low\n",
       "272  214.899994  223.500000  213.399994\n",
       "232  183.000000  183.550003  177.300003\n",
       "28   326.600006  333.700012  325.250000\n",
       "218  169.449997  172.399994  167.500000\n",
       "271  219.000000  219.100006  214.199997\n",
       "..          ...         ...         ...\n",
       "23   312.700012  316.000000  307.799988\n",
       "125  382.700012  387.750000  378.049988\n",
       "407   67.050003   68.849998   64.699997\n",
       "39   318.899994  320.799988  311.200012\n",
       "228  179.000000  187.550003  178.000000\n",
       "\n",
       "[98 rows x 3 columns]"
      ]
     },
     "execution_count": 22,
     "metadata": {},
     "output_type": "execute_result"
    }
   ],
   "source": [
    "xtest"
   ]
  },
  {
   "cell_type": "code",
   "execution_count": 23,
   "metadata": {},
   "outputs": [
    {
     "data": {
      "text/plain": [
       "272    221.949997\n",
       "232    178.550003\n",
       "28     327.049988\n",
       "218    168.300003\n",
       "271    215.000000\n",
       "          ...    \n",
       "23     309.299988\n",
       "125    383.799988\n",
       "407     65.150002\n",
       "39     312.399994\n",
       "228    186.649994\n",
       "Name: Close, Length: 98, dtype: float64"
      ]
     },
     "execution_count": 23,
     "metadata": {},
     "output_type": "execute_result"
    }
   ],
   "source": [
    "ytest"
   ]
  },
  {
   "cell_type": "code",
   "execution_count": 24,
   "metadata": {},
   "outputs": [],
   "source": [
    "#reshapte testing x values as well\n",
    "# xtest=np.reshape(np.array(xtest),(-1,1))\n",
    "values=model.predict(xtest)\n"
   ]
  },
  {
   "cell_type": "code",
   "execution_count": 25,
   "metadata": {},
   "outputs": [
    {
     "data": {
      "text/plain": [
       "4.375502349871036"
      ]
     },
     "execution_count": 25,
     "metadata": {},
     "output_type": "execute_result"
    }
   ],
   "source": [
    "from sklearn.metrics import mean_squared_error\n",
    "mean_squared_error(ytest,values)"
   ]
  },
  {
   "cell_type": "code",
   "execution_count": 26,
   "metadata": {},
   "outputs": [
    {
     "data": {
      "text/plain": [
       "<matplotlib.axes._subplots.AxesSubplot at 0x7f819abe20d0>"
      ]
     },
     "execution_count": 26,
     "metadata": {},
     "output_type": "execute_result"
    },
    {
     "data": {
      "image/png": "[encoded data removed]",
      "text/plain": [
       "<Figure size 432x288 with 1 Axes>"
      ]
     },
     "metadata": {
      "needs_background": "light"
     },
     "output_type": "display_data"
    }
   ],
   "source": [
    "import seaborn as sns\n",
    "\n",
    "sns.scatterplot(ytest,values) #plot for "
   ]
  },
  {
   "cell_type": "code",
   "execution_count": null,
   "metadata": {},
   "outputs": [],
   "source": [
    "-IN case of continuous numbers\n",
    "\n",
    "- To estimate / predict the value of a traget column"
   ]
  },
  {
   "cell_type": "code",
   "execution_count": null,
   "metadata": {},
   "outputs": [],
   "source": [
    "\n",
    "\n",
    "Gender Pclass Embarked Survived\n",
    "M       2         'C'        0\n",
    "F       2          'S'       1\n",
    "M       3         'F'       0"
   ]
  },
  {
   "cell_type": "code",
   "execution_count": null,
   "metadata": {},
   "outputs": [],
   "source": [
    "                      Gender"
   ]
  },
  {
   "cell_type": "code",
   "execution_count": null,
   "metadata": {},
   "outputs": [],
   "source": [
    "\n",
    "\n",
    "Gender Pclass Embarked                                                        Survived\n",
    "M       2          'C'                                                           0\n",
    "F       2          'S'                                                           1\n",
    "M       3          'C'                                                           1"
   ]
  },
  {
   "cell_type": "code",
   "execution_count": null,
   "metadata": {},
   "outputs": [],
   "source": [
    "F      3     'C'                                    \n",
    "    \n",
    "    \n",
    "                                    GENDER\n",
    "    \n",
    "                             FEMALE              MALE\n",
    "    \n",
    "                          [SURVIVED]             PCLASS\n",
    "                                    \n",
    "                                              2                          3\n",
    "    \n",
    "                                           [NOT SURVIVED]              [SURVIVED]\n",
    "    \n",
    "    \n",
    "    \n",
    "    \n",
    "    \n",
    "    "
   ]
  }
 ],
 "metadata": {
  "kernelspec": {
   "display_name": "Python 3",
   "language": "python",
   "name": "python3"
  },
  "language_info": {
   "codemirror_mode": {
    "name": "ipython",
    "version": 3
   },
   "file_extension": ".py",
   "mimetype": "text/x-python",
   "name": "python",
   "nbconvert_exporter": "python",
   "pygments_lexer": "ipython3",
   "version": "3.8.5"
  }
 },
 "nbformat": 4,
 "nbformat_minor": 4
}
